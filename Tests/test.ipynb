{
 "cells": [
  {
   "cell_type": "code",
   "execution_count": 1,
   "metadata": {},
   "outputs": [],
   "source": [
    "import numpy as np\n",
    "from numpy.fft import fft\n",
    "import pandas as pd\n",
    "import matplotlib.pyplot as plt\n",
    "import zlib \n",
    "import scipy as sp"
   ]
  },
  {
   "cell_type": "code",
   "execution_count": 2,
   "metadata": {},
   "outputs": [],
   "source": [
    "import pandas as pd\n",
    "\n",
    "df = pd.read_csv('csv/Turntable1.csv')"
   ]
  },
  {
   "cell_type": "code",
   "execution_count": 3,
   "metadata": {},
   "outputs": [],
   "source": [
    "t = df[['Time']].to_string()\n",
    "accX = df[['Accel X (g)']].to_string()\n",
    "temp = df[['Temp']].to_numpy()\n",
    "gyroZ = df[['Gyro Z (dps)']].to_numpy()\n",
    "gravY = df[['Grav Y']].to_numpy()"
   ]
  },
  {
   "cell_type": "code",
   "execution_count": 4,
   "metadata": {},
   "outputs": [],
   "source": [
    "with open('accX.txt', 'w') as f:\n",
    "    f.writelines(accX)"
   ]
  },
  {
   "cell_type": "code",
   "execution_count": 5,
   "metadata": {},
   "outputs": [],
   "source": [
    "import zlib\n",
    "import time \n",
    "\n",
    "def compress(plaintext, level):\n",
    "    comp = zlib.compress(plaintext.encode('utf-8'), level)\n",
    "    return comp\n",
    "\n",
    "def decompress(comp):\n",
    "    decomp = zlib.decompress(comp)\n",
    "    return decomp"
   ]
  },
  {
   "cell_type": "code",
   "execution_count": 19,
   "metadata": {},
   "outputs": [
    {
     "data": {
      "text/plain": [
       "' '"
      ]
     },
     "execution_count": 19,
     "metadata": {},
     "output_type": "execute_result"
    }
   ],
   "source": []
  },
  {
   "cell_type": "markdown",
   "metadata": {},
   "source": [
    "## Compression"
   ]
  },
  {
   "cell_type": "code",
   "execution_count": 6,
   "metadata": {},
   "outputs": [],
   "source": [
    "def compress(plaintext, level):\n",
    "    comp = zlib.compress(plaintext.encode('utf-8'), level)\n",
    "    return comp"
   ]
  },
  {
   "cell_type": "code",
   "execution_count": 7,
   "metadata": {},
   "outputs": [],
   "source": [
    "with open('csv_as_text/WalkingAround.txt') as f:\n",
    "    original = f.readlines()\n"
   ]
  },
  {
   "cell_type": "code",
   "execution_count": 23,
   "metadata": {},
   "outputs": [],
   "source": [
    "data = \"hi\""
   ]
  },
  {
   "cell_type": "code",
   "execution_count": 24,
   "metadata": {},
   "outputs": [],
   "source": [
    "comp = compress(data, 8)\n",
    "\n",
    "with open('SerialData/comp_sample.txt', 'w') as f:\n",
    "    f.write(str(comp))"
   ]
  },
  {
   "cell_type": "code",
   "execution_count": 5,
   "metadata": {},
   "outputs": [],
   "source": [
    "compressed = []\n",
    "for line in original:\n",
    "    comp = compress(line, 8)\n",
    "    compressed.append(comp)"
   ]
  },
  {
   "cell_type": "code",
   "execution_count": 6,
   "metadata": {},
   "outputs": [],
   "source": [
    "with open('compressed/WalkingAround_compressed.txt', 'wb') as f:\n",
    "    f.writelines(compressed)"
   ]
  },
  {
   "cell_type": "code",
   "execution_count": 7,
   "metadata": {},
   "outputs": [],
   "source": [
    "decompressed = []\n",
    "for line in compressed:\n",
    "    decomp = zlib.decompress(line)\n",
    "    decompressed.append(decomp)"
   ]
  },
  {
   "cell_type": "code",
   "execution_count": 8,
   "metadata": {},
   "outputs": [],
   "source": [
    "with open('decompressed/WalkingAround_decompressed.txt', 'wb') as f:\n",
    "    f.writelines(decompressed)"
   ]
  },
  {
   "cell_type": "code",
   "execution_count": 9,
   "metadata": {},
   "outputs": [],
   "source": [
    "with open('csv_as_text/WalkingAround.txt') as f:\n",
    "    original_file = f.read()\n",
    "\n",
    "with open('decompressed/WalkingAround_decompressed.txt') as f:\n",
    "    decompressed_file = f.read()"
   ]
  },
  {
   "cell_type": "code",
   "execution_count": 10,
   "metadata": {},
   "outputs": [
    {
     "name": "stdout",
     "output_type": "stream",
     "text": [
      "All data retained after compression and decompression\n"
     ]
    }
   ],
   "source": [
    "if original_file==decompressed_file:\n",
    "    print('All data retained after compression and decompression')\n",
    "else:\n",
    "    print('Insufficient data retained after compression and decompression')"
   ]
  },
  {
   "cell_type": "markdown",
   "metadata": {},
   "source": [
    "## Encryption"
   ]
  },
  {
   "cell_type": "code",
   "execution_count": 207,
   "metadata": {},
   "outputs": [],
   "source": [
    "from Crypto.Cipher import AES\n",
    "from secrets import token_bytes\n",
    "import time\n",
    "\n",
    "#generate key\n",
    "key = token_bytes(16)\n",
    "\n",
    "#encrypt function\n",
    "def encrypt(msg):\n",
    "    cipher = AES.new(key, AES.MODE_EAX)\n",
    "    nonce = cipher.nonce\n",
    "    ciphertext, tag = cipher.encrypt_and_digest(msg.encode('ascii'))\n",
    "    return nonce, ciphertext, tag\n",
    "\n",
    "#decrypt function\n",
    "def decrypt(nonce, ciphertext, tag):\n",
    "    cipher = AES.new(key, AES.MODE_EAX, nonce=nonce)\n",
    "    plaintext = cipher.decrypt(ciphertext)\n",
    "    try:\n",
    "        cipher.verify(tag)\n",
    "        return plaintext.decode('ascii')\n",
    "    except:\n",
    "        return False\n",
    "\n",
    "#function to check if decrypted data is the same as the original data\n",
    "def check_decryption(plaintext, original):\n",
    "    if plaintext == original:\n",
    "        print('Decryption Successful')\n",
    "    else:\n",
    "        print('Decryption Failed')\n",
    "\n",
    "#timing function\n",
    "def get_time():\n",
    "    t = time.perf_counter()\n",
    "    return t\n",
    "\n",
    "def do_encryption(filenames, timing=False, generate_files=False):\n",
    "    for file in filenames:\n",
    "        #read text file as a string\n",
    "        with open('csv_as_text/'+file) as f:\n",
    "            original = f.read()\n",
    "    \n",
    "        start = get_time()\n",
    "        #encrypt data\n",
    "        nonce, ciphertext, tag = encrypt(original)\n",
    "        stop = get_time()\n",
    "        encrypt_time = round(stop-start, 4) \n",
    "        \n",
    "        start = get_time()\n",
    "        #decrypt data\n",
    "        plaintext = decrypt(nonce, ciphertext, tag)\n",
    "        stop = get_time()\n",
    "        decrypt_time = round(stop-start, 4)\n",
    "\n",
    "        total_time = encrypt_time+decrypt_time\n",
    "\n",
    "        #generate textfiles\n",
    "        if generate_files:\n",
    "            with open('encrypted/encrypted_'+file+'.txt', 'w') as f:\n",
    "                f.writelines(str(ciphertext))\n",
    "\n",
    "            start = get_time()\n",
    "            with open('decrypted/decrypted_'+file+'.txt', 'w') as f:\n",
    "                f.writelines(str(plaintext))\n",
    "            stop = get_time()\n",
    "            write_time = round(stop-start, 4)\n",
    "            total_time += write_time\n",
    "\n",
    "        print(f'Checking Decryption for {file}')\n",
    "        check_decryption(plaintext, original)\n",
    "\n",
    "        if timing:\n",
    "            print(f'Encrption Execution Time {encrypt_time} seconds')\n",
    "            print(f'Decryption Execution Time {decrypt_time} seconds')\n",
    "            if generate_files:\n",
    "                print(f'Time to write to text file {write_time} seconds')\n",
    "            print(f'Total Execution Time {total_time} seconds')\n",
    "\n",
    "        print('-------------------------------------')"
   ]
  },
  {
   "cell_type": "code",
   "execution_count": 212,
   "metadata": {},
   "outputs": [],
   "source": []
  },
  {
   "cell_type": "code",
   "execution_count": 213,
   "metadata": {},
   "outputs": [],
   "source": []
  },
  {
   "cell_type": "code",
   "execution_count": null,
   "metadata": {},
   "outputs": [],
   "source": []
  }
 ],
 "metadata": {
  "kernelspec": {
   "display_name": "Python 3.8.10 64-bit",
   "language": "python",
   "name": "python3"
  },
  "language_info": {
   "codemirror_mode": {
    "name": "ipython",
    "version": 3
   },
   "file_extension": ".py",
   "mimetype": "text/x-python",
   "name": "python",
   "nbconvert_exporter": "python",
   "pygments_lexer": "ipython3",
   "version": "3.8.10"
  },
  "orig_nbformat": 4,
  "vscode": {
   "interpreter": {
    "hash": "916dbcbb3f70747c44a77c7bcd40155683ae19c65e1c03b4aa3499c5328201f1"
   }
  }
 },
 "nbformat": 4,
 "nbformat_minor": 2
}
