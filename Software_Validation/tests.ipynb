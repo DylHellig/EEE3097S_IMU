{
 "cells": [
  {
   "cell_type": "markdown",
   "metadata": {},
   "source": [
    "# Tests for the Software Validation ATPs"
   ]
  },
  {
   "cell_type": "markdown",
   "metadata": {},
   "source": [
    "### Packages Used"
   ]
  },
  {
   "cell_type": "code",
   "execution_count": 97,
   "metadata": {},
   "outputs": [],
   "source": [
    "import numpy as np\n",
    "import matplotlib.pyplot as plt\n",
    "import aes as e\n",
    "import compression as c\n",
    "import time\n",
    "import zlib\n",
    "import time \n",
    "from Crypto.Cipher import AES\n",
    "from secrets import token_bytes"
   ]
  },
  {
   "cell_type": "code",
   "execution_count": 54,
   "metadata": {},
   "outputs": [],
   "source": [
    "def compress(plaintext, level):\n",
    "    comp = zlib.compress(plaintext.encode('utf-8'), level)\n",
    "    return comp\n",
    "\n",
    "def decompress(comp):\n",
    "    decomp = zlib.decompress(comp)\n",
    "    return decomp"
   ]
  },
  {
   "cell_type": "code",
   "execution_count": 55,
   "metadata": {},
   "outputs": [],
   "source": [
    "key = token_bytes(16)\n",
    "\n",
    "def encrypt(msg):\n",
    "    cipher = AES.new(key, AES.MODE_EAX)\n",
    "    nonce = cipher.nonce\n",
    "    ciphertext, tag = cipher.encrypt_and_digest(msg.encode('utf-8'))\n",
    "    return nonce, ciphertext, tag\n",
    "\n",
    "#decrypt function\n",
    "def decrypt(nonce, ciphertext, tag):\n",
    "    cipher = AES.new(key, AES.MODE_EAX, nonce=nonce)\n",
    "    plaintext = cipher.decrypt(ciphertext)\n",
    "    try:\n",
    "        cipher.verify(tag)\n",
    "        return plaintext.encode('utf-8')\n",
    "    except:\n",
    "        return False"
   ]
  },
  {
   "cell_type": "markdown",
   "metadata": {},
   "source": [
    "## ATP-3"
   ]
  },
  {
   "cell_type": "code",
   "execution_count": 63,
   "metadata": {},
   "outputs": [
    {
     "data": {
      "text/plain": [
       "b'x\\xda\\x0b\\xc9\\xc8,V\\x00\\xa2D\\x85\\xec\\xbc\\xfc\\xf2<\\x85\\xe2\\x92\\xa2\\xcc\\xbct\\x00Y\\x99\\x08\\x1a'"
      ]
     },
     "execution_count": 63,
     "metadata": {},
     "output_type": "execute_result"
    }
   ],
   "source": [
    "x = \"This is a known string\"\n",
    "comp = compress(x, 8)\n",
    "nonce, ciphertext, tag = encrypt(str(comp))\n",
    "comp"
   ]
  },
  {
   "cell_type": "code",
   "execution_count": 65,
   "metadata": {},
   "outputs": [
    {
     "data": {
      "text/plain": [
       "False"
      ]
     },
     "execution_count": 65,
     "metadata": {},
     "output_type": "execute_result"
    }
   ],
   "source": [
    "decrypted = decrypt(nonce, ciphertext, tag)\n",
    "decrypted"
   ]
  },
  {
   "cell_type": "markdown",
   "metadata": {},
   "source": [
    "## ATP-5"
   ]
  },
  {
   "cell_type": "code",
   "execution_count": 99,
   "metadata": {},
   "outputs": [
    {
     "name": "stdout",
     "output_type": "stream",
     "text": [
      "The Data after decryption is:\n",
      "This is a known string\n"
     ]
    }
   ],
   "source": [
    "plaintext = \"This is a known string\"\n",
    "nonce, tag, ciphertext = e.encrypt(plaintext)\n",
    "decrypted_data = e.decrypt(nonce, ciphertext, tag)\n",
    "print(\"The Data after decryption is:\")\n",
    "print(decrypted_data)"
   ]
  },
  {
   "cell_type": "markdown",
   "metadata": {},
   "source": [
    "## ATP-7"
   ]
  },
  {
   "cell_type": "code",
   "execution_count": 2,
   "metadata": {},
   "outputs": [],
   "source": [
    "with open('csv_as_text/Turntable1.txt', 'r') as f:\n",
    "    data = f.readlines()"
   ]
  },
  {
   "cell_type": "code",
   "execution_count": 3,
   "metadata": {},
   "outputs": [],
   "source": [
    "with open(\"Turntable150.txt\", 'w') as f:\n",
    "    for d in data[:150]:\n",
    "        f.write(d)"
   ]
  },
  {
   "cell_type": "code",
   "execution_count": 4,
   "metadata": {},
   "outputs": [],
   "source": [
    "with open(\"Turntable150.txt\", 'r') as f:\n",
    "    plaintext = f.read()"
   ]
  },
  {
   "cell_type": "code",
   "execution_count": 27,
   "metadata": {},
   "outputs": [
    {
     "name": "stdout",
     "output_type": "stream",
     "text": [
      "The Average Encryption Execution Time for 32kB of data is: 0.0056 seconds.\n"
     ]
    }
   ],
   "source": [
    "encryption_time = []\n",
    "# take 10 execution time measurements\n",
    "for i in range(10):\n",
    "    start = time.perf_counter()\n",
    "    nonce, ciphertext, tag = e.encrypt(plaintext)\n",
    "    end = time.perf_counter()\n",
    "    ex_time = np.round(end-start, 4)\n",
    "    encryption_time.append(ex_time)\n",
    "\n",
    "avg_encryption_time = np.round(np.average(encryption_time), 4)\n",
    "print(f\"The Average Encryption Execution Time for 32kB of data is: {avg_encryption_time} seconds.\")"
   ]
  },
  {
   "cell_type": "code",
   "execution_count": 28,
   "metadata": {},
   "outputs": [
    {
     "name": "stdout",
     "output_type": "stream",
     "text": [
      "The Average Decryption Execution Time for 32kB of data  is: 0.0027 seconds.\n"
     ]
    }
   ],
   "source": [
    "decryption_time = []\n",
    "# take 10 execution time measurements\n",
    "for i in range(10):\n",
    "    start = time.perf_counter()\n",
    "    decrypted = e.decrypt(nonce, ciphertext, tag)\n",
    "    end = time.perf_counter()\n",
    "    ex_time = np.round(end-start, 4)\n",
    "    decryption_time.append(ex_time)\n",
    "\n",
    "avg_decryption_time = np.round(np.average(decryption_time), 4)\n",
    "print(f\"The Average Decryption Execution Time for 32kB of data  is: {avg_decryption_time} seconds.\")\n"
   ]
  },
  {
   "cell_type": "markdown",
   "metadata": {},
   "source": [
    "## ATP-8"
   ]
  },
  {
   "cell_type": "code",
   "execution_count": 29,
   "metadata": {},
   "outputs": [
    {
     "name": "stdout",
     "output_type": "stream",
     "text": [
      "The decrypted data is exactly equal to the original data.\n"
     ]
    }
   ],
   "source": [
    "#get original plaintext\n",
    "with open(\"Turntable150.txt\", 'r') as f:\n",
    "    original_plaintext = f.read()\n",
    "#encyrpt original plaintext\n",
    "nonce, ciphertext, tag = e.encrypt(plaintext)\n",
    "#decrypt ciphertext\n",
    "decrypted_plaintext = e.decrypt(nonce, ciphertext, tag)\n",
    "#Check correctness\n",
    "if(decrypted_plaintext == original_plaintext):\n",
    "    print(\"The decrypted data is exactly equal to the original data.\")\n",
    "else:\n",
    "    print(\"The decrypted data is not equal to the original data.\")"
   ]
  },
  {
   "cell_type": "markdown",
   "metadata": {},
   "source": [
    "## ATP-9"
   ]
  },
  {
   "cell_type": "code",
   "execution_count": 31,
   "metadata": {},
   "outputs": [
    {
     "name": "stdout",
     "output_type": "stream",
     "text": [
      "The size of the decrypted data is exactly equal to the size of the original data.\n"
     ]
    }
   ],
   "source": [
    "#get size of original data\n",
    "original_size = len(original_plaintext)\n",
    "#get size of decrypted data\n",
    "decrypted_size = len(decrypted_plaintext)\n",
    "#check if sizes are equal\n",
    "if(decrypted_plaintext == original_plaintext):\n",
    "    print(\"The size of the decrypted data is exactly equal to the size of the original data.\")\n",
    "else:\n",
    "    print(\"The size of decrypted data is not equal to the size of the original data.\")"
   ]
  },
  {
   "cell_type": "markdown",
   "metadata": {},
   "source": [
    "## ATP-12 + ATP-14\n"
   ]
  },
  {
   "cell_type": "code",
   "execution_count": 71,
   "metadata": {},
   "outputs": [
    {
     "name": "stdout",
     "output_type": "stream",
     "text": [
      "The decompressed data is exactly equal to the original data.\n"
     ]
    }
   ],
   "source": [
    "#get original data\n",
    "with open(\"Turntable150.txt\", 'r') as f:\n",
    "    original_data = f.read()\n",
    "#compress original data\n",
    "compressed_data = c.compress(original_data, 8)\n",
    "#decompress data\n",
    "decompressed_data = c.decompress(compressed_data)\n",
    "#Check correctness\n",
    "if(decompressed_data == original_data):\n",
    "    print(\"The decompressed data is exactly equal to the original data.\")\n",
    "else:\n",
    "    print(\"The decompressed data is not equal to the original data.\")"
   ]
  },
  {
   "cell_type": "markdown",
   "metadata": {},
   "source": [
    "## ATP-13"
   ]
  },
  {
   "cell_type": "code",
   "execution_count": 94,
   "metadata": {},
   "outputs": [
    {
     "name": "stdout",
     "output_type": "stream",
     "text": [
      "The Average Compression Execution Time for 32kB of data  is: 0.0048 seconds.\n"
     ]
    }
   ],
   "source": [
    "with open(\"Turntable150.txt\", 'r') as f:\n",
    "    original_data = f.read()\n",
    "\n",
    "compression_time = []\n",
    "# take 10 execution time measurements\n",
    "for i in range(10):\n",
    "    start = time.perf_counter()\n",
    "    comp = c.compress(original_data, 8)\n",
    "    end = time.perf_counter()\n",
    "    ex_time = np.round(end-start, 4)\n",
    "    compression_time.append(ex_time)\n",
    "\n",
    "avg_compression_time = np.round(np.average(compression_time), 4)\n",
    "print(f\"The Average Compression Execution Time for 32kB of data  is: {avg_compression_time} seconds.\")"
   ]
  },
  {
   "cell_type": "code",
   "execution_count": 95,
   "metadata": {},
   "outputs": [
    {
     "name": "stdout",
     "output_type": "stream",
     "text": [
      "The Average Decompression Execution Time for 32kB of data  is: 0.0013 seconds.\n"
     ]
    }
   ],
   "source": [
    "decompression_time = []\n",
    "# take 10 execution time measurements\n",
    "for i in range(10):\n",
    "    start = time.perf_counter()\n",
    "    decomp = c.decompress(comp)\n",
    "    end = time.perf_counter()\n",
    "    ex_time = np.round(end-start, 4)\n",
    "    decompression_time.append(ex_time)\n",
    "\n",
    "avg_decompression_time = np.round(np.average(decompression_time), 4)\n",
    "print(f\"The Average Decompression Execution Time for 32kB of data  is: {avg_decompression_time} seconds.\")"
   ]
  },
  {
   "cell_type": "markdown",
   "metadata": {},
   "source": [
    "## ATP-15\n"
   ]
  },
  {
   "cell_type": "code",
   "execution_count": 79,
   "metadata": {},
   "outputs": [
    {
     "name": "stdout",
     "output_type": "stream",
     "text": [
      "The size of the decompressed data is exactly equal to the size of the original data.\n"
     ]
    }
   ],
   "source": [
    "#get size of original data\n",
    "original_size = len(original_data)\n",
    "#get size of decompressed data\n",
    "decompressed_size = len(decompressed_data)\n",
    "#check if sizes are equal\n",
    "if(decompressed_data == original_data):\n",
    "    print(\"The size of the decompressed data is exactly equal to the size of the original data.\")\n",
    "else:\n",
    "    print(\"The size of decompressed data is not equal to the size of the original data.\")"
   ]
  },
  {
   "cell_type": "code",
   "execution_count": 80,
   "metadata": {},
   "outputs": [
    {
     "ename": "NameError",
     "evalue": "name 'plaintext' is not defined",
     "output_type": "error",
     "traceback": [
      "\u001b[0;31m---------------------------------------------------------------------------\u001b[0m",
      "\u001b[0;31mNameError\u001b[0m                                 Traceback (most recent call last)",
      "\u001b[1;32m/home/dylan/IMU/EEE3097S_IMU/Software_Validation/tests.ipynb Cell 25\u001b[0m in \u001b[0;36m<cell line: 3>\u001b[0;34m()\u001b[0m\n\u001b[1;32m      <a href='vscode-notebook-cell:/home/dylan/IMU/EEE3097S_IMU/Software_Validation/tests.ipynb#X32sZmlsZQ%3D%3D?line=2'>3</a>\u001b[0m \u001b[39mfor\u001b[39;00m i \u001b[39min\u001b[39;00m \u001b[39mrange\u001b[39m(\u001b[39m10\u001b[39m):\n\u001b[1;32m      <a href='vscode-notebook-cell:/home/dylan/IMU/EEE3097S_IMU/Software_Validation/tests.ipynb#X32sZmlsZQ%3D%3D?line=3'>4</a>\u001b[0m     start \u001b[39m=\u001b[39m time\u001b[39m.\u001b[39mperf_counter()\n\u001b[0;32m----> <a href='vscode-notebook-cell:/home/dylan/IMU/EEE3097S_IMU/Software_Validation/tests.ipynb#X32sZmlsZQ%3D%3D?line=4'>5</a>\u001b[0m     nonce, ciphertext, tag \u001b[39m=\u001b[39m e\u001b[39m.\u001b[39mencrypt(plaintext)\n\u001b[1;32m      <a href='vscode-notebook-cell:/home/dylan/IMU/EEE3097S_IMU/Software_Validation/tests.ipynb#X32sZmlsZQ%3D%3D?line=5'>6</a>\u001b[0m     end \u001b[39m=\u001b[39m time\u001b[39m.\u001b[39mperf_counter()\n\u001b[1;32m      <a href='vscode-notebook-cell:/home/dylan/IMU/EEE3097S_IMU/Software_Validation/tests.ipynb#X32sZmlsZQ%3D%3D?line=6'>7</a>\u001b[0m     ex_time \u001b[39m=\u001b[39m np\u001b[39m.\u001b[39mround(end\u001b[39m-\u001b[39mstart, \u001b[39m4\u001b[39m)\n",
      "\u001b[0;31mNameError\u001b[0m: name 'plaintext' is not defined"
     ]
    }
   ],
   "source": [
    "\n",
    "print(f\"The Average Encryption Execution Time for 32kB of data is: {avg_encryption_time} seconds.\")"
   ]
  },
  {
   "cell_type": "code",
   "execution_count": 81,
   "metadata": {},
   "outputs": [
    {
     "name": "stdout",
     "output_type": "stream",
     "text": [
      "The Average Decryption Execution Time for 32kB of data  is: 0.0015 seconds.\n"
     ]
    }
   ],
   "source": [
    "decryption_time = []\n",
    "# take 10 execution time measurements\n",
    "for i in range(10):\n",
    "    start = time.perf_counter()\n",
    "    decrypted = e.decrypt(nonce, ciphertext, tag)\n",
    "    end = time.perf_counter()\n",
    "    ex_time = np.round(end-start, 4)\n",
    "    decryption_time.append(ex_time)\n",
    "\n",
    "avg_decryption_time = np.round(np.average(decryption_time), 4)\n",
    "print(f\"The Average Decryption Execution Time for 32kB of data  is: {avg_decryption_time} seconds.\")"
   ]
  },
  {
   "cell_type": "code",
   "execution_count": null,
   "metadata": {},
   "outputs": [],
   "source": []
  }
 ],
 "metadata": {
  "kernelspec": {
   "display_name": "Python 3.8.10 64-bit",
   "language": "python",
   "name": "python3"
  },
  "language_info": {
   "codemirror_mode": {
    "name": "ipython",
    "version": 3
   },
   "file_extension": ".py",
   "mimetype": "text/x-python",
   "name": "python",
   "nbconvert_exporter": "python",
   "pygments_lexer": "ipython3",
   "version": "3.8.10"
  },
  "orig_nbformat": 4,
  "vscode": {
   "interpreter": {
    "hash": "916dbcbb3f70747c44a77c7bcd40155683ae19c65e1c03b4aa3499c5328201f1"
   }
  }
 },
 "nbformat": 4,
 "nbformat_minor": 2
}
